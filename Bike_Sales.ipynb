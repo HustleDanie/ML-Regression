{
  "metadata": {
    "kernelspec": {
      "language": "python",
      "display_name": "Python 3",
      "name": "python3"
    },
    "language_info": {
      "name": "python",
      "version": "3.10.13",
      "mimetype": "text/x-python",
      "codemirror_mode": {
        "name": "ipython",
        "version": 3
      },
      "pygments_lexer": "ipython3",
      "nbconvert_exporter": "python",
      "file_extension": ".py"
    },
    "kaggle": {
      "accelerator": "none",
      "dataSources": [
        {
          "sourceId": 1509564,
          "sourceType": "datasetVersion",
          "datasetId": 889310
        }
      ],
      "dockerImageVersionId": 30664,
      "isInternetEnabled": false,
      "language": "python",
      "sourceType": "notebook",
      "isGpuEnabled": false
    },
    "colab": {
      "name": "Bike Sales",
      "provenance": [],
      "include_colab_link": true
    }
  },
  "nbformat_minor": 0,
  "nbformat": 4,
  "cells": [
    {
      "cell_type": "markdown",
      "metadata": {
        "id": "view-in-github",
        "colab_type": "text"
      },
      "source": [
        "<a href=\"https://colab.research.google.com/github/HustleDanie/ML-Regression/blob/main/Bike_Sales.ipynb\" target=\"_parent\"><img src=\"https://colab.research.google.com/assets/colab-badge.svg\" alt=\"Open In Colab\"/></a>"
      ]
    },
    {
      "cell_type": "code",
      "source": [
        "import pandas as pd\n",
        "import numpy as np\n",
        "import matplotlib.pyplot as plt\n",
        "import plotly.express as px"
      ],
      "metadata": {
        "_uuid": "8f2839f25d086af736a60e9eeb907d3b93b6e0e5",
        "_cell_guid": "b1076dfc-b9ad-4769-8c92-a6c4dae69d19",
        "execution": {
          "iopub.status.busy": "2024-03-24T01:41:51.371787Z",
          "iopub.execute_input": "2024-03-24T01:41:51.372227Z",
          "iopub.status.idle": "2024-03-24T01:41:52.189065Z",
          "shell.execute_reply.started": "2024-03-24T01:41:51.372183Z",
          "shell.execute_reply": "2024-03-24T01:41:52.187823Z"
        },
        "trusted": true,
        "id": "ps-yz9oSLOqJ"
      },
      "execution_count": null,
      "outputs": []
    },
    {
      "cell_type": "code",
      "source": [
        "df = pd.read_csv('Sales.csv.zip')"
      ],
      "metadata": {
        "execution": {
          "iopub.status.busy": "2024-03-24T01:41:52.191321Z",
          "iopub.execute_input": "2024-03-24T01:41:52.191819Z",
          "iopub.status.idle": "2024-03-24T01:41:52.610812Z",
          "shell.execute_reply.started": "2024-03-24T01:41:52.191789Z",
          "shell.execute_reply": "2024-03-24T01:41:52.609785Z"
        },
        "trusted": true,
        "id": "Qxq39JU1LOqK"
      },
      "execution_count": null,
      "outputs": []
    },
    {
      "cell_type": "code",
      "source": [
        "df.head()"
      ],
      "metadata": {
        "execution": {
          "iopub.status.busy": "2024-03-24T01:41:52.612159Z",
          "iopub.execute_input": "2024-03-24T01:41:52.612716Z",
          "iopub.status.idle": "2024-03-24T01:41:52.635778Z",
          "shell.execute_reply.started": "2024-03-24T01:41:52.612685Z",
          "shell.execute_reply": "2024-03-24T01:41:52.634149Z"
        },
        "trusted": true,
        "id": "sXJAFWyhLOqK"
      },
      "execution_count": null,
      "outputs": []
    },
    {
      "cell_type": "code",
      "source": [
        "df.shape"
      ],
      "metadata": {
        "execution": {
          "iopub.status.busy": "2024-03-24T01:41:52.637194Z",
          "iopub.execute_input": "2024-03-24T01:41:52.637518Z",
          "iopub.status.idle": "2024-03-24T01:41:52.645383Z",
          "shell.execute_reply.started": "2024-03-24T01:41:52.63749Z",
          "shell.execute_reply": "2024-03-24T01:41:52.644227Z"
        },
        "trusted": true,
        "id": "G_XNLJ_oLOqL"
      },
      "execution_count": null,
      "outputs": []
    },
    {
      "cell_type": "code",
      "source": [
        "df.describe()"
      ],
      "metadata": {
        "execution": {
          "iopub.status.busy": "2024-03-24T01:41:52.648821Z",
          "iopub.execute_input": "2024-03-24T01:41:52.649207Z",
          "iopub.status.idle": "2024-03-24T01:41:52.714191Z",
          "shell.execute_reply.started": "2024-03-24T01:41:52.649178Z",
          "shell.execute_reply": "2024-03-24T01:41:52.712957Z"
        },
        "trusted": true,
        "id": "oOkVMzp-LOqL"
      },
      "execution_count": null,
      "outputs": []
    },
    {
      "cell_type": "code",
      "source": [
        "df.dtypes"
      ],
      "metadata": {
        "execution": {
          "iopub.status.busy": "2024-03-24T01:41:52.715548Z",
          "iopub.execute_input": "2024-03-24T01:41:52.715869Z",
          "iopub.status.idle": "2024-03-24T01:41:52.725734Z",
          "shell.execute_reply.started": "2024-03-24T01:41:52.715842Z",
          "shell.execute_reply": "2024-03-24T01:41:52.724624Z"
        },
        "trusted": true,
        "id": "Tgnur0jWLOqL"
      },
      "execution_count": null,
      "outputs": []
    },
    {
      "cell_type": "code",
      "source": [
        "df.isnull().sum()"
      ],
      "metadata": {
        "execution": {
          "iopub.status.busy": "2024-03-24T01:41:52.727608Z",
          "iopub.execute_input": "2024-03-24T01:41:52.728269Z",
          "iopub.status.idle": "2024-03-24T01:41:52.849045Z",
          "shell.execute_reply.started": "2024-03-24T01:41:52.728227Z",
          "shell.execute_reply": "2024-03-24T01:41:52.847729Z"
        },
        "trusted": true,
        "id": "_0SUYlHtLOqM"
      },
      "execution_count": null,
      "outputs": []
    },
    {
      "cell_type": "code",
      "source": [
        "df['Date'] = pd.to_datetime(df['Date'])"
      ],
      "metadata": {
        "execution": {
          "iopub.status.busy": "2024-03-24T01:41:52.850417Z",
          "iopub.execute_input": "2024-03-24T01:41:52.850776Z",
          "iopub.status.idle": "2024-03-24T01:41:52.894174Z",
          "shell.execute_reply.started": "2024-03-24T01:41:52.850748Z",
          "shell.execute_reply": "2024-03-24T01:41:52.893015Z"
        },
        "trusted": true,
        "id": "cOuo5RiBLOqM"
      },
      "execution_count": null,
      "outputs": []
    },
    {
      "cell_type": "code",
      "source": [
        "df['Country'].unique()"
      ],
      "metadata": {
        "execution": {
          "iopub.status.busy": "2024-03-24T01:41:52.895237Z",
          "iopub.execute_input": "2024-03-24T01:41:52.895584Z",
          "iopub.status.idle": "2024-03-24T01:41:52.916362Z",
          "shell.execute_reply.started": "2024-03-24T01:41:52.895553Z",
          "shell.execute_reply": "2024-03-24T01:41:52.914791Z"
        },
        "trusted": true,
        "id": "JmVrYlQoLOqM"
      },
      "execution_count": null,
      "outputs": []
    },
    {
      "cell_type": "code",
      "source": [
        "df['Product_Category'].unique()"
      ],
      "metadata": {
        "execution": {
          "iopub.status.busy": "2024-03-24T01:41:52.918215Z",
          "iopub.execute_input": "2024-03-24T01:41:52.918871Z",
          "iopub.status.idle": "2024-03-24T01:41:52.936813Z",
          "shell.execute_reply.started": "2024-03-24T01:41:52.918834Z",
          "shell.execute_reply": "2024-03-24T01:41:52.935374Z"
        },
        "trusted": true,
        "id": "CdIkRVxlLOqN"
      },
      "execution_count": null,
      "outputs": []
    },
    {
      "cell_type": "code",
      "source": [
        "df['Sub_Category'].unique()"
      ],
      "metadata": {
        "execution": {
          "iopub.status.busy": "2024-03-24T01:41:52.9386Z",
          "iopub.execute_input": "2024-03-24T01:41:52.939017Z",
          "iopub.status.idle": "2024-03-24T01:41:52.958064Z",
          "shell.execute_reply.started": "2024-03-24T01:41:52.938984Z",
          "shell.execute_reply": "2024-03-24T01:41:52.956857Z"
        },
        "trusted": true,
        "id": "jUv7zpNtLOqN"
      },
      "execution_count": null,
      "outputs": []
    },
    {
      "cell_type": "code",
      "source": [
        "Pr = df.groupby('Product_Category')['Revenue'].sum().sort_values(ascending=False)\n",
        "colors = plt.get_cmap('Blues')(np.linspace(0.7, 0.5, len(Pr)))\n",
        "plt.figure(figsize=(10,5))\n",
        "plt.bar(Pr.index, Pr.values, align='center', color=colors)\n",
        "plt.xlabel('Category')\n",
        "plt.ylabel('Revenue')\n",
        "plt.title(\"Revenue per Category\")\n",
        "plt.ticklabel_format(style='plain', axis='y')\n",
        "plt.show()"
      ],
      "metadata": {
        "execution": {
          "iopub.status.busy": "2024-03-24T01:41:52.959558Z",
          "iopub.execute_input": "2024-03-24T01:41:52.961003Z",
          "iopub.status.idle": "2024-03-24T01:41:53.254118Z",
          "shell.execute_reply.started": "2024-03-24T01:41:52.960956Z",
          "shell.execute_reply": "2024-03-24T01:41:53.25298Z"
        },
        "trusted": true,
        "id": "I4uN5U6vLOqN"
      },
      "execution_count": null,
      "outputs": []
    },
    {
      "cell_type": "code",
      "source": [
        "CountryRevenue = df.groupby('Country')['Revenue'].sum().sort_values(ascending=False)\n",
        "colors = plt.get_cmap('Blues')(np.linspace(0.7, 0.5, len(CountryRevenue)))\n",
        "plt.figure(figsize=(10,5))\n",
        "plt.bar(CountryRevenue.index, CountryRevenue.values, align='center', color=colors)\n",
        "plt.xlabel('Country')\n",
        "plt.ylabel('Revenue')\n",
        "plt.title(\"Revenue per Country\")\n",
        "plt.ticklabel_format(style='plain', axis='y')\n",
        "plt.show()"
      ],
      "metadata": {
        "execution": {
          "iopub.status.busy": "2024-03-24T01:41:53.255714Z",
          "iopub.execute_input": "2024-03-24T01:41:53.256165Z",
          "iopub.status.idle": "2024-03-24T01:41:53.560482Z",
          "shell.execute_reply.started": "2024-03-24T01:41:53.256123Z",
          "shell.execute_reply": "2024-03-24T01:41:53.559202Z"
        },
        "trusted": true,
        "id": "fjsZenWmLOqO"
      },
      "execution_count": null,
      "outputs": []
    },
    {
      "cell_type": "code",
      "source": [
        "SubRevenue = df.groupby('Sub_Category')['Revenue'].sum().sort_values(ascending=False)\n",
        "colors = plt.get_cmap('Blues')(np.linspace(0.7, 0.5, len(SubRevenue)))\n",
        "plt.figure(figsize=(10,5))\n",
        "plt.bar(SubRevenue.index, SubRevenue.values, align='center', color=colors)\n",
        "plt.xlabel('Sub Category')\n",
        "plt.ylabel('Revenue')\n",
        "plt.title(\"Revenue per Sub Category\")\n",
        "plt.ticklabel_format(style='plain', axis='y')\n",
        "plt.xticks(rotation=90)\n",
        "plt.show()"
      ],
      "metadata": {
        "execution": {
          "iopub.status.busy": "2024-03-24T01:41:53.565504Z",
          "iopub.execute_input": "2024-03-24T01:41:53.566121Z",
          "iopub.status.idle": "2024-03-24T01:41:53.991712Z",
          "shell.execute_reply.started": "2024-03-24T01:41:53.566075Z",
          "shell.execute_reply": "2024-03-24T01:41:53.990205Z"
        },
        "trusted": true,
        "id": "HShBHUR3LOqO"
      },
      "execution_count": null,
      "outputs": []
    },
    {
      "cell_type": "code",
      "source": [
        "Mr = df.groupby('Month')['Revenue'].sum()\n",
        "month = ['January', 'February', 'March', 'April', 'May', 'June', 'July', 'August', 'September', 'October', 'November', 'December']\n",
        "col = {\n",
        "    'Month' : Mr.index,\n",
        "    'Revenue' : Mr.values\n",
        "}\n",
        "MonthRevenue = pd.DataFrame(col)\n",
        "MonthRevenue = MonthRevenue.sort_values(by='Month', key=lambda x: pd.Categorical(x, categories=month, ordered=True))\n",
        "plt.figure(figsize=(10,5))\n",
        "plt.plot(MonthRevenue.Month, MonthRevenue.Revenue)\n",
        "plt.xlabel('Month')\n",
        "plt.ylabel('Revenue')\n",
        "plt.title(\"Monthly Revenue\")\n",
        "plt.ticklabel_format(style='plain', axis='y')\n",
        "plt.xticks(rotation=45)\n",
        "plt.show()"
      ],
      "metadata": {
        "execution": {
          "iopub.status.busy": "2024-03-24T01:41:53.993382Z",
          "iopub.execute_input": "2024-03-24T01:41:53.99381Z",
          "iopub.status.idle": "2024-03-24T01:41:54.374796Z",
          "shell.execute_reply.started": "2024-03-24T01:41:53.993772Z",
          "shell.execute_reply": "2024-03-24T01:41:54.373632Z"
        },
        "trusted": true,
        "id": "RmYxHkDhLOqP"
      },
      "execution_count": null,
      "outputs": []
    },
    {
      "cell_type": "code",
      "source": [
        "ProductRevenue = df.groupby('Product')['Revenue'].sum().sort_values(ascending=False)\n",
        "ProductRevenue = ProductRevenue.head(5)\n",
        "fig = px.pie(ProductRevenue, color_discrete_sequence=px.colors.qualitative.Prism,names=ProductRevenue.index, values = ProductRevenue.values, width = 800, height = 500)\n",
        "fig.show()"
      ],
      "metadata": {
        "execution": {
          "iopub.status.busy": "2024-03-24T01:41:54.376533Z",
          "iopub.execute_input": "2024-03-24T01:41:54.37728Z",
          "iopub.status.idle": "2024-03-24T01:41:56.44097Z",
          "shell.execute_reply.started": "2024-03-24T01:41:54.377238Z",
          "shell.execute_reply": "2024-03-24T01:41:56.439769Z"
        },
        "trusted": true,
        "id": "z9RdM7DnLOqP"
      },
      "execution_count": null,
      "outputs": []
    },
    {
      "cell_type": "code",
      "source": [
        "StateRevenue = df.groupby('State')['Revenue'].sum().sort_values(ascending=False).head()\n",
        "colors = plt.get_cmap('Blues')(np.linspace(0.7, 0.5, len(StateRevenue)))\n",
        "plt.figure(figsize=(10,5))\n",
        "plt.bar(StateRevenue.index, StateRevenue.values, align='center', color=colors)\n",
        "plt.xlabel('States')\n",
        "plt.ylabel('Revenue')\n",
        "plt.title(\"Top 5 Earning States\")\n",
        "plt.ticklabel_format(style='plain', axis='y')\n",
        "plt.show()"
      ],
      "metadata": {
        "execution": {
          "iopub.status.busy": "2024-03-24T01:41:56.442622Z",
          "iopub.execute_input": "2024-03-24T01:41:56.443087Z",
          "iopub.status.idle": "2024-03-24T01:41:56.751557Z",
          "shell.execute_reply.started": "2024-03-24T01:41:56.443033Z",
          "shell.execute_reply": "2024-03-24T01:41:56.750295Z"
        },
        "trusted": true,
        "id": "5rYL8YEDLOqP"
      },
      "execution_count": null,
      "outputs": []
    },
    {
      "cell_type": "code",
      "source": [
        "Age = df.groupby('Age_Group')['Revenue'].sum().sort_values(ascending=False)\n",
        "plt.figure(figsize=(10,5))\n",
        "plt.bar(Age.index, Age.values, align='center', color=colors)\n",
        "plt.xlabel('Age')\n",
        "plt.ylabel('Revenue')\n",
        "plt.title(\"Age Range Revenue\")\n",
        "plt.ticklabel_format(style='plain', axis='y')\n",
        "plt.show()"
      ],
      "metadata": {
        "execution": {
          "iopub.status.busy": "2024-03-24T01:41:56.752994Z",
          "iopub.execute_input": "2024-03-24T01:41:56.753493Z",
          "iopub.status.idle": "2024-03-24T01:41:57.213658Z",
          "shell.execute_reply.started": "2024-03-24T01:41:56.753459Z",
          "shell.execute_reply": "2024-03-24T01:41:57.212443Z"
        },
        "trusted": true,
        "id": "m9kgDxaTLOqP"
      },
      "execution_count": null,
      "outputs": []
    },
    {
      "cell_type": "code",
      "source": [
        "fig = px.pie(Age, color_discrete_sequence=px.colors.qualitative.Prism,names=Age.index, values = Age.values, width = 800, height = 500)\n",
        "fig.show()"
      ],
      "metadata": {
        "execution": {
          "iopub.status.busy": "2024-03-24T01:41:57.215162Z",
          "iopub.execute_input": "2024-03-24T01:41:57.215499Z",
          "iopub.status.idle": "2024-03-24T01:41:57.277543Z",
          "shell.execute_reply.started": "2024-03-24T01:41:57.215469Z",
          "shell.execute_reply": "2024-03-24T01:41:57.276321Z"
        },
        "trusted": true,
        "id": "UNntkMY7LOqQ"
      },
      "execution_count": null,
      "outputs": []
    },
    {
      "cell_type": "code",
      "source": [],
      "metadata": {
        "id": "xsyuc_BQLOqQ"
      },
      "execution_count": null,
      "outputs": []
    }
  ]
}