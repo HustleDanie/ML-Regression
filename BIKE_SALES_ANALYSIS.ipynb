{
  "metadata": {
    "kernelspec": {
      "language": "python",
      "display_name": "Python 3",
      "name": "python3"
    },
    "language_info": {
      "name": "python",
      "version": "3.10.13",
      "mimetype": "text/x-python",
      "codemirror_mode": {
        "name": "ipython",
        "version": 3
      },
      "pygments_lexer": "ipython3",
      "nbconvert_exporter": "python",
      "file_extension": ".py"
    },
    "kaggle": {
      "accelerator": "none",
      "dataSources": [
        {
          "sourceId": 1509564,
          "sourceType": "datasetVersion",
          "datasetId": 889310
        }
      ],
      "dockerImageVersionId": 30664,
      "isInternetEnabled": false,
      "language": "python",
      "sourceType": "notebook",
      "isGpuEnabled": false
    },
    "colab": {
      "name": "BIKE SALES ANALYSIS  ",
      "provenance": [],
      "include_colab_link": true
    }
  },
  "nbformat_minor": 0,
  "nbformat": 4,
  "cells": [
    {
      "cell_type": "markdown",
      "metadata": {
        "id": "view-in-github",
        "colab_type": "text"
      },
      "source": [
        "<a href=\"https://colab.research.google.com/github/HustleDanie/ML-Regression/blob/main/BIKE_SALES_ANALYSIS.ipynb\" target=\"_parent\"><img src=\"https://colab.research.google.com/assets/colab-badge.svg\" alt=\"Open In Colab\"/></a>"
      ]
    },
    {
      "cell_type": "code",
      "source": [
        "# importing Libraries\n",
        "import numpy as np\n",
        "import pandas as pd\n",
        "import matplotlib.pyplot as plt\n",
        "import seaborn as sns\n",
        "import plotly.express as px\n",
        "import cufflinks as cf\n",
        "# Make Plotly work in your Jupyter Notebook\n",
        "from plotly.offline import download_plotlyjs, init_notebook_mode, plot, iplot\n",
        "init_notebook_mode(connected=True)\n",
        "# Use Plotly locally\n",
        "cf.go_offline()"
      ],
      "metadata": {
        "execution": {
          "iopub.status.busy": "2024-03-20T14:41:01.191878Z",
          "iopub.execute_input": "2024-03-20T14:41:01.192566Z",
          "iopub.status.idle": "2024-03-20T14:41:05.649925Z",
          "shell.execute_reply.started": "2024-03-20T14:41:01.192504Z",
          "shell.execute_reply": "2024-03-20T14:41:05.648865Z"
        },
        "trusted": true,
        "id": "kVy49gFTNZOM",
        "outputId": "bbecde46-0d97-406b-975b-62623ffeac6a",
        "colab": {
          "base_uri": "https://localhost:8080/",
          "height": 17
        }
      },
      "execution_count": 1,
      "outputs": [
        {
          "output_type": "display_data",
          "data": {
            "text/html": [
              "        <script type=\"text/javascript\">\n",
              "        window.PlotlyConfig = {MathJaxConfig: 'local'};\n",
              "        if (window.MathJax && window.MathJax.Hub && window.MathJax.Hub.Config) {window.MathJax.Hub.Config({SVG: {font: \"STIX-Web\"}});}\n",
              "        if (typeof require !== 'undefined') {\n",
              "        require.undef(\"plotly\");\n",
              "        requirejs.config({\n",
              "            paths: {\n",
              "                'plotly': ['https://cdn.plot.ly/plotly-2.24.1.min']\n",
              "            }\n",
              "        });\n",
              "        require(['plotly'], function(Plotly) {\n",
              "            window._Plotly = Plotly;\n",
              "        });\n",
              "        }\n",
              "        </script>\n",
              "        "
            ]
          },
          "metadata": {}
        },
        {
          "output_type": "display_data",
          "data": {
            "text/html": [
              "        <script type=\"text/javascript\">\n",
              "        window.PlotlyConfig = {MathJaxConfig: 'local'};\n",
              "        if (window.MathJax && window.MathJax.Hub && window.MathJax.Hub.Config) {window.MathJax.Hub.Config({SVG: {font: \"STIX-Web\"}});}\n",
              "        if (typeof require !== 'undefined') {\n",
              "        require.undef(\"plotly\");\n",
              "        requirejs.config({\n",
              "            paths: {\n",
              "                'plotly': ['https://cdn.plot.ly/plotly-2.24.1.min']\n",
              "            }\n",
              "        });\n",
              "        require(['plotly'], function(Plotly) {\n",
              "            window._Plotly = Plotly;\n",
              "        });\n",
              "        }\n",
              "        </script>\n",
              "        "
            ]
          },
          "metadata": {}
        }
      ]
    },
    {
      "cell_type": "code",
      "source": [
        "%pip install chart_studio\n",
        "import chart_studio.plotly as py\n",
        "import plotly.graph_objects as go"
      ],
      "metadata": {
        "execution": {
          "iopub.status.busy": "2024-03-20T14:42:10.202034Z",
          "iopub.execute_input": "2024-03-20T14:42:10.202439Z",
          "iopub.status.idle": "2024-03-20T14:42:24.130452Z",
          "shell.execute_reply.started": "2024-03-20T14:42:10.202408Z",
          "shell.execute_reply": "2024-03-20T14:42:24.12915Z"
        },
        "trusted": true,
        "id": "m_yZWQELNZON",
        "outputId": "fc8aa183-34ac-47ed-bef9-764221687fe6",
        "colab": {
          "base_uri": "https://localhost:8080/"
        }
      },
      "execution_count": 2,
      "outputs": [
        {
          "output_type": "stream",
          "name": "stdout",
          "text": [
            "Collecting chart_studio\n",
            "  Downloading chart_studio-1.1.0-py3-none-any.whl (64 kB)\n",
            "\u001b[2K     \u001b[90m━━━━━━━━━━━━━━━━━━━━━━━━━━━━━━━━━━━━━━━━\u001b[0m \u001b[32m64.4/64.4 kB\u001b[0m \u001b[31m736.6 kB/s\u001b[0m eta \u001b[36m0:00:00\u001b[0m\n",
            "\u001b[?25hRequirement already satisfied: plotly in /usr/local/lib/python3.10/dist-packages (from chart_studio) (5.15.0)\n",
            "Requirement already satisfied: requests in /usr/local/lib/python3.10/dist-packages (from chart_studio) (2.31.0)\n",
            "Collecting retrying>=1.3.3 (from chart_studio)\n",
            "  Downloading retrying-1.3.4-py3-none-any.whl (11 kB)\n",
            "Requirement already satisfied: six in /usr/local/lib/python3.10/dist-packages (from chart_studio) (1.16.0)\n",
            "Requirement already satisfied: tenacity>=6.2.0 in /usr/local/lib/python3.10/dist-packages (from plotly->chart_studio) (8.2.3)\n",
            "Requirement already satisfied: packaging in /usr/local/lib/python3.10/dist-packages (from plotly->chart_studio) (24.0)\n",
            "Requirement already satisfied: charset-normalizer<4,>=2 in /usr/local/lib/python3.10/dist-packages (from requests->chart_studio) (3.3.2)\n",
            "Requirement already satisfied: idna<4,>=2.5 in /usr/local/lib/python3.10/dist-packages (from requests->chart_studio) (3.7)\n",
            "Requirement already satisfied: urllib3<3,>=1.21.1 in /usr/local/lib/python3.10/dist-packages (from requests->chart_studio) (2.0.7)\n",
            "Requirement already satisfied: certifi>=2017.4.17 in /usr/local/lib/python3.10/dist-packages (from requests->chart_studio) (2024.2.2)\n",
            "Installing collected packages: retrying, chart_studio\n",
            "Successfully installed chart_studio-1.1.0 retrying-1.3.4\n"
          ]
        }
      ]
    },
    {
      "cell_type": "code",
      "source": [
        "# IMPORTING THE DATA SET\n",
        "bk = pd.read_csv('Sales.csv.zip')"
      ],
      "metadata": {
        "execution": {
          "iopub.status.busy": "2024-03-20T14:42:30.558662Z",
          "iopub.execute_input": "2024-03-20T14:42:30.559281Z",
          "iopub.status.idle": "2024-03-20T14:42:31.070465Z",
          "shell.execute_reply.started": "2024-03-20T14:42:30.559247Z",
          "shell.execute_reply": "2024-03-20T14:42:31.069013Z"
        },
        "trusted": true,
        "id": "zfWU2cMjNZON"
      },
      "execution_count": 3,
      "outputs": []
    },
    {
      "cell_type": "markdown",
      "source": [
        "# DATA EXPLORATORY"
      ],
      "metadata": {
        "id": "NDurt8t-NZON"
      }
    },
    {
      "cell_type": "code",
      "source": [
        "bk.head()"
      ],
      "metadata": {
        "execution": {
          "iopub.status.busy": "2024-03-20T14:42:32.681329Z",
          "iopub.execute_input": "2024-03-20T14:42:32.682308Z",
          "iopub.status.idle": "2024-03-20T14:42:32.709135Z",
          "shell.execute_reply.started": "2024-03-20T14:42:32.682271Z",
          "shell.execute_reply": "2024-03-20T14:42:32.708134Z"
        },
        "trusted": true,
        "id": "6YRZ9zRyNZOO",
        "outputId": "df73bf5f-0daa-41d9-a5b0-51f24a9ba354",
        "colab": {
          "base_uri": "https://localhost:8080/",
          "height": 399
        }
      },
      "execution_count": 4,
      "outputs": [
        {
          "output_type": "execute_result",
          "data": {
            "text/plain": [
              "         Date  Day     Month  Year  Customer_Age       Age_Group  \\\n",
              "0  2013-11-26   26  November  2013            19     Youth (<25)   \n",
              "1  2015-11-26   26  November  2015            19     Youth (<25)   \n",
              "2  2014-03-23   23     March  2014            49  Adults (35-64)   \n",
              "3  2016-03-23   23     March  2016            49  Adults (35-64)   \n",
              "4  2014-05-15   15       May  2014            47  Adults (35-64)   \n",
              "\n",
              "  Customer_Gender    Country             State Product_Category Sub_Category  \\\n",
              "0               M     Canada  British Columbia      Accessories   Bike Racks   \n",
              "1               M     Canada  British Columbia      Accessories   Bike Racks   \n",
              "2               M  Australia   New South Wales      Accessories   Bike Racks   \n",
              "3               M  Australia   New South Wales      Accessories   Bike Racks   \n",
              "4               F  Australia   New South Wales      Accessories   Bike Racks   \n",
              "\n",
              "               Product  Order_Quantity  Unit_Cost  Unit_Price  Profit  Cost  \\\n",
              "0  Hitch Rack - 4-Bike               8         45         120     590   360   \n",
              "1  Hitch Rack - 4-Bike               8         45         120     590   360   \n",
              "2  Hitch Rack - 4-Bike              23         45         120    1366  1035   \n",
              "3  Hitch Rack - 4-Bike              20         45         120    1188   900   \n",
              "4  Hitch Rack - 4-Bike               4         45         120     238   180   \n",
              "\n",
              "   Revenue  \n",
              "0      950  \n",
              "1      950  \n",
              "2     2401  \n",
              "3     2088  \n",
              "4      418  "
            ],
            "text/html": [
              "\n",
              "  <div id=\"df-5a358f0e-5da3-47f1-b670-35d6868eb1a1\" class=\"colab-df-container\">\n",
              "    <div>\n",
              "<style scoped>\n",
              "    .dataframe tbody tr th:only-of-type {\n",
              "        vertical-align: middle;\n",
              "    }\n",
              "\n",
              "    .dataframe tbody tr th {\n",
              "        vertical-align: top;\n",
              "    }\n",
              "\n",
              "    .dataframe thead th {\n",
              "        text-align: right;\n",
              "    }\n",
              "</style>\n",
              "<table border=\"1\" class=\"dataframe\">\n",
              "  <thead>\n",
              "    <tr style=\"text-align: right;\">\n",
              "      <th></th>\n",
              "      <th>Date</th>\n",
              "      <th>Day</th>\n",
              "      <th>Month</th>\n",
              "      <th>Year</th>\n",
              "      <th>Customer_Age</th>\n",
              "      <th>Age_Group</th>\n",
              "      <th>Customer_Gender</th>\n",
              "      <th>Country</th>\n",
              "      <th>State</th>\n",
              "      <th>Product_Category</th>\n",
              "      <th>Sub_Category</th>\n",
              "      <th>Product</th>\n",
              "      <th>Order_Quantity</th>\n",
              "      <th>Unit_Cost</th>\n",
              "      <th>Unit_Price</th>\n",
              "      <th>Profit</th>\n",
              "      <th>Cost</th>\n",
              "      <th>Revenue</th>\n",
              "    </tr>\n",
              "  </thead>\n",
              "  <tbody>\n",
              "    <tr>\n",
              "      <th>0</th>\n",
              "      <td>2013-11-26</td>\n",
              "      <td>26</td>\n",
              "      <td>November</td>\n",
              "      <td>2013</td>\n",
              "      <td>19</td>\n",
              "      <td>Youth (&lt;25)</td>\n",
              "      <td>M</td>\n",
              "      <td>Canada</td>\n",
              "      <td>British Columbia</td>\n",
              "      <td>Accessories</td>\n",
              "      <td>Bike Racks</td>\n",
              "      <td>Hitch Rack - 4-Bike</td>\n",
              "      <td>8</td>\n",
              "      <td>45</td>\n",
              "      <td>120</td>\n",
              "      <td>590</td>\n",
              "      <td>360</td>\n",
              "      <td>950</td>\n",
              "    </tr>\n",
              "    <tr>\n",
              "      <th>1</th>\n",
              "      <td>2015-11-26</td>\n",
              "      <td>26</td>\n",
              "      <td>November</td>\n",
              "      <td>2015</td>\n",
              "      <td>19</td>\n",
              "      <td>Youth (&lt;25)</td>\n",
              "      <td>M</td>\n",
              "      <td>Canada</td>\n",
              "      <td>British Columbia</td>\n",
              "      <td>Accessories</td>\n",
              "      <td>Bike Racks</td>\n",
              "      <td>Hitch Rack - 4-Bike</td>\n",
              "      <td>8</td>\n",
              "      <td>45</td>\n",
              "      <td>120</td>\n",
              "      <td>590</td>\n",
              "      <td>360</td>\n",
              "      <td>950</td>\n",
              "    </tr>\n",
              "    <tr>\n",
              "      <th>2</th>\n",
              "      <td>2014-03-23</td>\n",
              "      <td>23</td>\n",
              "      <td>March</td>\n",
              "      <td>2014</td>\n",
              "      <td>49</td>\n",
              "      <td>Adults (35-64)</td>\n",
              "      <td>M</td>\n",
              "      <td>Australia</td>\n",
              "      <td>New South Wales</td>\n",
              "      <td>Accessories</td>\n",
              "      <td>Bike Racks</td>\n",
              "      <td>Hitch Rack - 4-Bike</td>\n",
              "      <td>23</td>\n",
              "      <td>45</td>\n",
              "      <td>120</td>\n",
              "      <td>1366</td>\n",
              "      <td>1035</td>\n",
              "      <td>2401</td>\n",
              "    </tr>\n",
              "    <tr>\n",
              "      <th>3</th>\n",
              "      <td>2016-03-23</td>\n",
              "      <td>23</td>\n",
              "      <td>March</td>\n",
              "      <td>2016</td>\n",
              "      <td>49</td>\n",
              "      <td>Adults (35-64)</td>\n",
              "      <td>M</td>\n",
              "      <td>Australia</td>\n",
              "      <td>New South Wales</td>\n",
              "      <td>Accessories</td>\n",
              "      <td>Bike Racks</td>\n",
              "      <td>Hitch Rack - 4-Bike</td>\n",
              "      <td>20</td>\n",
              "      <td>45</td>\n",
              "      <td>120</td>\n",
              "      <td>1188</td>\n",
              "      <td>900</td>\n",
              "      <td>2088</td>\n",
              "    </tr>\n",
              "    <tr>\n",
              "      <th>4</th>\n",
              "      <td>2014-05-15</td>\n",
              "      <td>15</td>\n",
              "      <td>May</td>\n",
              "      <td>2014</td>\n",
              "      <td>47</td>\n",
              "      <td>Adults (35-64)</td>\n",
              "      <td>F</td>\n",
              "      <td>Australia</td>\n",
              "      <td>New South Wales</td>\n",
              "      <td>Accessories</td>\n",
              "      <td>Bike Racks</td>\n",
              "      <td>Hitch Rack - 4-Bike</td>\n",
              "      <td>4</td>\n",
              "      <td>45</td>\n",
              "      <td>120</td>\n",
              "      <td>238</td>\n",
              "      <td>180</td>\n",
              "      <td>418</td>\n",
              "    </tr>\n",
              "  </tbody>\n",
              "</table>\n",
              "</div>\n",
              "    <div class=\"colab-df-buttons\">\n",
              "\n",
              "  <div class=\"colab-df-container\">\n",
              "    <button class=\"colab-df-convert\" onclick=\"convertToInteractive('df-5a358f0e-5da3-47f1-b670-35d6868eb1a1')\"\n",
              "            title=\"Convert this dataframe to an interactive table.\"\n",
              "            style=\"display:none;\">\n",
              "\n",
              "  <svg xmlns=\"http://www.w3.org/2000/svg\" height=\"24px\" viewBox=\"0 -960 960 960\">\n",
              "    <path d=\"M120-120v-720h720v720H120Zm60-500h600v-160H180v160Zm220 220h160v-160H400v160Zm0 220h160v-160H400v160ZM180-400h160v-160H180v160Zm440 0h160v-160H620v160ZM180-180h160v-160H180v160Zm440 0h160v-160H620v160Z\"/>\n",
              "  </svg>\n",
              "    </button>\n",
              "\n",
              "  <style>\n",
              "    .colab-df-container {\n",
              "      display:flex;\n",
              "      gap: 12px;\n",
              "    }\n",
              "\n",
              "    .colab-df-convert {\n",
              "      background-color: #E8F0FE;\n",
              "      border: none;\n",
              "      border-radius: 50%;\n",
              "      cursor: pointer;\n",
              "      display: none;\n",
              "      fill: #1967D2;\n",
              "      height: 32px;\n",
              "      padding: 0 0 0 0;\n",
              "      width: 32px;\n",
              "    }\n",
              "\n",
              "    .colab-df-convert:hover {\n",
              "      background-color: #E2EBFA;\n",
              "      box-shadow: 0px 1px 2px rgba(60, 64, 67, 0.3), 0px 1px 3px 1px rgba(60, 64, 67, 0.15);\n",
              "      fill: #174EA6;\n",
              "    }\n",
              "\n",
              "    .colab-df-buttons div {\n",
              "      margin-bottom: 4px;\n",
              "    }\n",
              "\n",
              "    [theme=dark] .colab-df-convert {\n",
              "      background-color: #3B4455;\n",
              "      fill: #D2E3FC;\n",
              "    }\n",
              "\n",
              "    [theme=dark] .colab-df-convert:hover {\n",
              "      background-color: #434B5C;\n",
              "      box-shadow: 0px 1px 3px 1px rgba(0, 0, 0, 0.15);\n",
              "      filter: drop-shadow(0px 1px 2px rgba(0, 0, 0, 0.3));\n",
              "      fill: #FFFFFF;\n",
              "    }\n",
              "  </style>\n",
              "\n",
              "    <script>\n",
              "      const buttonEl =\n",
              "        document.querySelector('#df-5a358f0e-5da3-47f1-b670-35d6868eb1a1 button.colab-df-convert');\n",
              "      buttonEl.style.display =\n",
              "        google.colab.kernel.accessAllowed ? 'block' : 'none';\n",
              "\n",
              "      async function convertToInteractive(key) {\n",
              "        const element = document.querySelector('#df-5a358f0e-5da3-47f1-b670-35d6868eb1a1');\n",
              "        const dataTable =\n",
              "          await google.colab.kernel.invokeFunction('convertToInteractive',\n",
              "                                                    [key], {});\n",
              "        if (!dataTable) return;\n",
              "\n",
              "        const docLinkHtml = 'Like what you see? Visit the ' +\n",
              "          '<a target=\"_blank\" href=https://colab.research.google.com/notebooks/data_table.ipynb>data table notebook</a>'\n",
              "          + ' to learn more about interactive tables.';\n",
              "        element.innerHTML = '';\n",
              "        dataTable['output_type'] = 'display_data';\n",
              "        await google.colab.output.renderOutput(dataTable, element);\n",
              "        const docLink = document.createElement('div');\n",
              "        docLink.innerHTML = docLinkHtml;\n",
              "        element.appendChild(docLink);\n",
              "      }\n",
              "    </script>\n",
              "  </div>\n",
              "\n",
              "\n",
              "<div id=\"df-70f93a71-22cb-4d58-93f5-79cfe6d78047\">\n",
              "  <button class=\"colab-df-quickchart\" onclick=\"quickchart('df-70f93a71-22cb-4d58-93f5-79cfe6d78047')\"\n",
              "            title=\"Suggest charts\"\n",
              "            style=\"display:none;\">\n",
              "\n",
              "<svg xmlns=\"http://www.w3.org/2000/svg\" height=\"24px\"viewBox=\"0 0 24 24\"\n",
              "     width=\"24px\">\n",
              "    <g>\n",
              "        <path d=\"M19 3H5c-1.1 0-2 .9-2 2v14c0 1.1.9 2 2 2h14c1.1 0 2-.9 2-2V5c0-1.1-.9-2-2-2zM9 17H7v-7h2v7zm4 0h-2V7h2v10zm4 0h-2v-4h2v4z\"/>\n",
              "    </g>\n",
              "</svg>\n",
              "  </button>\n",
              "\n",
              "<style>\n",
              "  .colab-df-quickchart {\n",
              "      --bg-color: #E8F0FE;\n",
              "      --fill-color: #1967D2;\n",
              "      --hover-bg-color: #E2EBFA;\n",
              "      --hover-fill-color: #174EA6;\n",
              "      --disabled-fill-color: #AAA;\n",
              "      --disabled-bg-color: #DDD;\n",
              "  }\n",
              "\n",
              "  [theme=dark] .colab-df-quickchart {\n",
              "      --bg-color: #3B4455;\n",
              "      --fill-color: #D2E3FC;\n",
              "      --hover-bg-color: #434B5C;\n",
              "      --hover-fill-color: #FFFFFF;\n",
              "      --disabled-bg-color: #3B4455;\n",
              "      --disabled-fill-color: #666;\n",
              "  }\n",
              "\n",
              "  .colab-df-quickchart {\n",
              "    background-color: var(--bg-color);\n",
              "    border: none;\n",
              "    border-radius: 50%;\n",
              "    cursor: pointer;\n",
              "    display: none;\n",
              "    fill: var(--fill-color);\n",
              "    height: 32px;\n",
              "    padding: 0;\n",
              "    width: 32px;\n",
              "  }\n",
              "\n",
              "  .colab-df-quickchart:hover {\n",
              "    background-color: var(--hover-bg-color);\n",
              "    box-shadow: 0 1px 2px rgba(60, 64, 67, 0.3), 0 1px 3px 1px rgba(60, 64, 67, 0.15);\n",
              "    fill: var(--button-hover-fill-color);\n",
              "  }\n",
              "\n",
              "  .colab-df-quickchart-complete:disabled,\n",
              "  .colab-df-quickchart-complete:disabled:hover {\n",
              "    background-color: var(--disabled-bg-color);\n",
              "    fill: var(--disabled-fill-color);\n",
              "    box-shadow: none;\n",
              "  }\n",
              "\n",
              "  .colab-df-spinner {\n",
              "    border: 2px solid var(--fill-color);\n",
              "    border-color: transparent;\n",
              "    border-bottom-color: var(--fill-color);\n",
              "    animation:\n",
              "      spin 1s steps(1) infinite;\n",
              "  }\n",
              "\n",
              "  @keyframes spin {\n",
              "    0% {\n",
              "      border-color: transparent;\n",
              "      border-bottom-color: var(--fill-color);\n",
              "      border-left-color: var(--fill-color);\n",
              "    }\n",
              "    20% {\n",
              "      border-color: transparent;\n",
              "      border-left-color: var(--fill-color);\n",
              "      border-top-color: var(--fill-color);\n",
              "    }\n",
              "    30% {\n",
              "      border-color: transparent;\n",
              "      border-left-color: var(--fill-color);\n",
              "      border-top-color: var(--fill-color);\n",
              "      border-right-color: var(--fill-color);\n",
              "    }\n",
              "    40% {\n",
              "      border-color: transparent;\n",
              "      border-right-color: var(--fill-color);\n",
              "      border-top-color: var(--fill-color);\n",
              "    }\n",
              "    60% {\n",
              "      border-color: transparent;\n",
              "      border-right-color: var(--fill-color);\n",
              "    }\n",
              "    80% {\n",
              "      border-color: transparent;\n",
              "      border-right-color: var(--fill-color);\n",
              "      border-bottom-color: var(--fill-color);\n",
              "    }\n",
              "    90% {\n",
              "      border-color: transparent;\n",
              "      border-bottom-color: var(--fill-color);\n",
              "    }\n",
              "  }\n",
              "</style>\n",
              "\n",
              "  <script>\n",
              "    async function quickchart(key) {\n",
              "      const quickchartButtonEl =\n",
              "        document.querySelector('#' + key + ' button');\n",
              "      quickchartButtonEl.disabled = true;  // To prevent multiple clicks.\n",
              "      quickchartButtonEl.classList.add('colab-df-spinner');\n",
              "      try {\n",
              "        const charts = await google.colab.kernel.invokeFunction(\n",
              "            'suggestCharts', [key], {});\n",
              "      } catch (error) {\n",
              "        console.error('Error during call to suggestCharts:', error);\n",
              "      }\n",
              "      quickchartButtonEl.classList.remove('colab-df-spinner');\n",
              "      quickchartButtonEl.classList.add('colab-df-quickchart-complete');\n",
              "    }\n",
              "    (() => {\n",
              "      let quickchartButtonEl =\n",
              "        document.querySelector('#df-70f93a71-22cb-4d58-93f5-79cfe6d78047 button');\n",
              "      quickchartButtonEl.style.display =\n",
              "        google.colab.kernel.accessAllowed ? 'block' : 'none';\n",
              "    })();\n",
              "  </script>\n",
              "</div>\n",
              "\n",
              "    </div>\n",
              "  </div>\n"
            ],
            "application/vnd.google.colaboratory.intrinsic+json": {
              "type": "dataframe",
              "variable_name": "bk"
            }
          },
          "metadata": {},
          "execution_count": 4
        }
      ]
    },
    {
      "cell_type": "code",
      "source": [
        "bk.shape"
      ],
      "metadata": {
        "execution": {
          "iopub.status.busy": "2024-03-20T14:42:36.873633Z",
          "iopub.execute_input": "2024-03-20T14:42:36.874043Z",
          "iopub.status.idle": "2024-03-20T14:42:36.88103Z",
          "shell.execute_reply.started": "2024-03-20T14:42:36.874011Z",
          "shell.execute_reply": "2024-03-20T14:42:36.879839Z"
        },
        "trusted": true,
        "id": "XCL96mcPNZOO",
        "outputId": "6ad043c5-c090-46ca-ee30-e4accc66e1cd",
        "colab": {
          "base_uri": "https://localhost:8080/"
        }
      },
      "execution_count": 5,
      "outputs": [
        {
          "output_type": "execute_result",
          "data": {
            "text/plain": [
              "(113036, 18)"
            ]
          },
          "metadata": {},
          "execution_count": 5
        }
      ]
    },
    {
      "cell_type": "code",
      "source": [
        "bk.info()"
      ],
      "metadata": {
        "execution": {
          "iopub.status.busy": "2024-03-20T14:42:39.267625Z",
          "iopub.execute_input": "2024-03-20T14:42:39.268014Z",
          "iopub.status.idle": "2024-03-20T14:42:39.352598Z",
          "shell.execute_reply.started": "2024-03-20T14:42:39.267981Z",
          "shell.execute_reply": "2024-03-20T14:42:39.351483Z"
        },
        "trusted": true,
        "id": "J95_uFXXNZOO",
        "outputId": "d18e16ff-7689-40ca-eda3-fcd52055fc1e",
        "colab": {
          "base_uri": "https://localhost:8080/"
        }
      },
      "execution_count": 6,
      "outputs": [
        {
          "output_type": "stream",
          "name": "stdout",
          "text": [
            "<class 'pandas.core.frame.DataFrame'>\n",
            "RangeIndex: 113036 entries, 0 to 113035\n",
            "Data columns (total 18 columns):\n",
            " #   Column            Non-Null Count   Dtype \n",
            "---  ------            --------------   ----- \n",
            " 0   Date              113036 non-null  object\n",
            " 1   Day               113036 non-null  int64 \n",
            " 2   Month             113036 non-null  object\n",
            " 3   Year              113036 non-null  int64 \n",
            " 4   Customer_Age      113036 non-null  int64 \n",
            " 5   Age_Group         113036 non-null  object\n",
            " 6   Customer_Gender   113036 non-null  object\n",
            " 7   Country           113036 non-null  object\n",
            " 8   State             113036 non-null  object\n",
            " 9   Product_Category  113036 non-null  object\n",
            " 10  Sub_Category      113036 non-null  object\n",
            " 11  Product           113036 non-null  object\n",
            " 12  Order_Quantity    113036 non-null  int64 \n",
            " 13  Unit_Cost         113036 non-null  int64 \n",
            " 14  Unit_Price        113036 non-null  int64 \n",
            " 15  Profit            113036 non-null  int64 \n",
            " 16  Cost              113036 non-null  int64 \n",
            " 17  Revenue           113036 non-null  int64 \n",
            "dtypes: int64(9), object(9)\n",
            "memory usage: 15.5+ MB\n"
          ]
        }
      ]
    },
    {
      "cell_type": "markdown",
      "source": [
        "<div class=\"alert alert-block alert-info\">\n",
        "<b></b> WE NEED TO CHANGE SOME COLUMNS DTYPES .\n",
        "</div>"
      ],
      "metadata": {
        "id": "a9J7DBB-NZOO"
      }
    },
    {
      "cell_type": "code",
      "source": [
        "# checking for null values\n",
        "bk.isnull().sum()"
      ],
      "metadata": {
        "execution": {
          "iopub.status.busy": "2024-03-20T14:42:45.772563Z",
          "iopub.execute_input": "2024-03-20T14:42:45.773248Z",
          "iopub.status.idle": "2024-03-20T14:42:45.831743Z",
          "shell.execute_reply.started": "2024-03-20T14:42:45.773216Z",
          "shell.execute_reply": "2024-03-20T14:42:45.829627Z"
        },
        "trusted": true,
        "id": "c86kzJVjNZOP"
      },
      "execution_count": null,
      "outputs": []
    },
    {
      "cell_type": "markdown",
      "source": [
        "<div class=\"alert alert-block alert-info\">\n",
        "<b></b> WE HAVE NO NULL VALUES IN THE DATA SET.\n",
        "</div>"
      ],
      "metadata": {
        "id": "n7Dvve2QNZOP"
      }
    },
    {
      "cell_type": "code",
      "source": [
        "bk['Product_Category'].value_counts()"
      ],
      "metadata": {
        "execution": {
          "iopub.status.busy": "2024-03-20T14:42:49.929131Z",
          "iopub.execute_input": "2024-03-20T14:42:49.929546Z",
          "iopub.status.idle": "2024-03-20T14:42:49.946884Z",
          "shell.execute_reply.started": "2024-03-20T14:42:49.929499Z",
          "shell.execute_reply": "2024-03-20T14:42:49.945604Z"
        },
        "trusted": true,
        "id": "qdblVG1VNZOP"
      },
      "execution_count": null,
      "outputs": []
    },
    {
      "cell_type": "code",
      "source": [
        "bk['Sub_Category'].value_counts()"
      ],
      "metadata": {
        "execution": {
          "iopub.status.busy": "2024-03-20T14:42:53.041124Z",
          "iopub.execute_input": "2024-03-20T14:42:53.041583Z",
          "iopub.status.idle": "2024-03-20T14:42:53.057223Z",
          "shell.execute_reply.started": "2024-03-20T14:42:53.041545Z",
          "shell.execute_reply": "2024-03-20T14:42:53.056124Z"
        },
        "trusted": true,
        "id": "1ulb9I2SNZOP"
      },
      "execution_count": null,
      "outputs": []
    },
    {
      "cell_type": "code",
      "source": [
        "bk['Country'].value_counts()"
      ],
      "metadata": {
        "execution": {
          "iopub.status.busy": "2024-03-19T23:58:50.053691Z",
          "iopub.execute_input": "2024-03-19T23:58:50.05413Z",
          "iopub.status.idle": "2024-03-19T23:58:50.083398Z",
          "shell.execute_reply.started": "2024-03-19T23:58:50.054099Z",
          "shell.execute_reply": "2024-03-19T23:58:50.082168Z"
        },
        "trusted": true,
        "id": "HKRPOfPDNZOP"
      },
      "execution_count": null,
      "outputs": []
    },
    {
      "cell_type": "code",
      "source": [
        "# General information about the given data set\n",
        "bk.describe()"
      ],
      "metadata": {
        "execution": {
          "iopub.status.busy": "2024-03-19T23:58:53.052157Z",
          "iopub.execute_input": "2024-03-19T23:58:53.052614Z",
          "iopub.status.idle": "2024-03-19T23:58:53.123305Z",
          "shell.execute_reply.started": "2024-03-19T23:58:53.052583Z",
          "shell.execute_reply": "2024-03-19T23:58:53.122055Z"
        },
        "trusted": true,
        "id": "O2A0W78oNZOQ"
      },
      "execution_count": null,
      "outputs": []
    },
    {
      "cell_type": "code",
      "source": [
        "# General information about the given data set including object\n",
        "bk.describe(include = 'object')"
      ],
      "metadata": {
        "execution": {
          "iopub.status.busy": "2024-03-19T23:59:00.734532Z",
          "iopub.execute_input": "2024-03-19T23:59:00.735038Z",
          "iopub.status.idle": "2024-03-19T23:59:01.054576Z",
          "shell.execute_reply.started": "2024-03-19T23:59:00.735003Z",
          "shell.execute_reply": "2024-03-19T23:59:01.052994Z"
        },
        "trusted": true,
        "id": "6cvuEzruNZOQ"
      },
      "execution_count": null,
      "outputs": []
    },
    {
      "cell_type": "code",
      "source": [
        "# Transforming date columns to a date_time columns\n",
        "bk['Date'] = pd.to_datetime(bk['Date'])"
      ],
      "metadata": {
        "execution": {
          "iopub.status.busy": "2024-03-19T23:59:07.16442Z",
          "iopub.execute_input": "2024-03-19T23:59:07.16481Z",
          "iopub.status.idle": "2024-03-19T23:59:07.185321Z",
          "shell.execute_reply.started": "2024-03-19T23:59:07.164781Z",
          "shell.execute_reply": "2024-03-19T23:59:07.183951Z"
        },
        "trusted": true,
        "id": "IAsd7Wa9NZOQ"
      },
      "execution_count": null,
      "outputs": []
    },
    {
      "cell_type": "markdown",
      "source": [
        "# # BIKE ANALYSIS AND VISUALISING"
      ],
      "metadata": {
        "id": "akk1wgNNNZOQ"
      }
    },
    {
      "cell_type": "code",
      "source": [
        "# Getting The Revenue By Product Category\n",
        "Revenue_by_category = bk.groupby(['Product_Category'])['Revenue'].sum().sort_values(ascending = False )\n",
        "Revenue_by_category"
      ],
      "metadata": {
        "execution": {
          "iopub.status.busy": "2024-03-20T14:43:01.834926Z",
          "iopub.execute_input": "2024-03-20T14:43:01.835276Z",
          "iopub.status.idle": "2024-03-20T14:43:01.856213Z",
          "shell.execute_reply.started": "2024-03-20T14:43:01.835251Z",
          "shell.execute_reply": "2024-03-20T14:43:01.854671Z"
        },
        "trusted": true,
        "id": "FNzNp2Z-NZOQ"
      },
      "execution_count": null,
      "outputs": []
    },
    {
      "cell_type": "code",
      "source": [
        "# ploting The Revenue By Product Category\n",
        "fig = px.bar(Revenue_by_category, x= Revenue_by_category.index, y= Revenue_by_category.values, color= Revenue_by_category.index, title= \"Revenue by Product Category\",template = 'presentation',\n",
        "   width = 900 ,height = 500,barmode = 'relative', opacity = 0.9, color_discrete_sequence = ['red','blue','yellow'] )\n",
        "fig.update_layout(\n",
        "    xaxis_title_text='Product Category',\n",
        "    yaxis_title_text='Revenue',\n",
        "    bargap=0.2)\n",
        "\n",
        "fig.show()"
      ],
      "metadata": {
        "execution": {
          "iopub.status.busy": "2024-03-20T15:47:19.946566Z",
          "iopub.execute_input": "2024-03-20T15:47:19.946939Z",
          "iopub.status.idle": "2024-03-20T15:47:20.0097Z",
          "shell.execute_reply.started": "2024-03-20T15:47:19.946912Z",
          "shell.execute_reply": "2024-03-20T15:47:20.008904Z"
        },
        "trusted": true,
        "id": "pvxrqnc9NZOQ"
      },
      "execution_count": null,
      "outputs": []
    },
    {
      "cell_type": "code",
      "source": [
        "# Getting Revenue By Sub_Category\n",
        "Revenue_Sub_C = bk.groupby(['Sub_Category'])['Revenue'].sum().sort_values(ascending = False)\n",
        "Revenue_Sub_C\n",
        "data = {\n",
        "    \"Sub_Category\" : Revenue_Sub_C.index,\n",
        "     \"Revenue\" : Revenue_Sub_C.values\n",
        "}\n",
        "Revenue_Sub_C1 = pd.DataFrame(data)\n",
        "Revenue_Sub_C1"
      ],
      "metadata": {
        "execution": {
          "iopub.status.busy": "2024-03-20T15:14:48.220761Z",
          "iopub.execute_input": "2024-03-20T15:14:48.221145Z",
          "iopub.status.idle": "2024-03-20T15:14:48.249548Z",
          "shell.execute_reply.started": "2024-03-20T15:14:48.221118Z",
          "shell.execute_reply": "2024-03-20T15:14:48.247852Z"
        },
        "trusted": true,
        "id": "ZCHIFn90NZOQ"
      },
      "execution_count": null,
      "outputs": []
    },
    {
      "cell_type": "code",
      "source": [
        "# Getting Revenue By Sub_Category\n",
        "fig = px.bar(Revenue_Sub_C1, x= 'Sub_Category' , y = 'Revenue',color = 'Revenue',width = 1000, height = 800,\n",
        "            color_continuous_scale= px.colors.sequential.Sunsetdark,template = 'presentation')\n",
        "fig.update_layout(\n",
        "    title = 'Total Revenue By Sub Category',\n",
        "    xaxis_title='',\n",
        "    yaxis_title_text='Revenue')\n",
        "fig.show()"
      ],
      "metadata": {
        "execution": {
          "iopub.status.busy": "2024-03-20T16:54:48.601823Z",
          "iopub.execute_input": "2024-03-20T16:54:48.603015Z",
          "iopub.status.idle": "2024-03-20T16:54:48.655687Z",
          "shell.execute_reply.started": "2024-03-20T16:54:48.602971Z",
          "shell.execute_reply": "2024-03-20T16:54:48.654593Z"
        },
        "trusted": true,
        "id": "z_ieaqerNZOQ"
      },
      "execution_count": null,
      "outputs": []
    },
    {
      "cell_type": "markdown",
      "source": [
        "<div class=\"alert alert-block alert-info\">\n",
        "<b></b> WE SEE HIER THAT ROAD BIKES AND MOUNTAIN BIKES ARE THE HIGHST BY REVENUE\n",
        "    AND WHEN WE MOVE ON TO ACCESSORIES WE SEE THAT TIRES AND TUBES AND HELMETS HAD HIGHST INCOME  .\n",
        "</div>"
      ],
      "metadata": {
        "id": "x7ptkBw1NZOR"
      }
    },
    {
      "cell_type": "code",
      "source": [
        "# Revenue By year and sub_category\n",
        "bk1 = bk.groupby(['Year','Sub_Category'])['Revenue'].sum()\n",
        "bk1"
      ],
      "metadata": {
        "execution": {
          "iopub.status.busy": "2024-03-20T14:43:39.807346Z",
          "iopub.execute_input": "2024-03-20T14:43:39.807734Z",
          "iopub.status.idle": "2024-03-20T14:43:39.831397Z",
          "shell.execute_reply.started": "2024-03-20T14:43:39.807704Z",
          "shell.execute_reply": "2024-03-20T14:43:39.83021Z"
        },
        "trusted": true,
        "id": "NJyiC62NNZOR"
      },
      "execution_count": null,
      "outputs": []
    },
    {
      "cell_type": "code",
      "source": [
        "# swetching bk1 to a data frama\n",
        "data = {\n",
        "    \"Year\" : bk1.index.get_level_values(0),\n",
        "    \"Sub_Category\" : bk1.index.get_level_values(1),\n",
        "     \"Revenue\" : bk1.values\n",
        "}\n",
        "\n",
        "bk2 = pd.DataFrame(data)\n",
        "bk2"
      ],
      "metadata": {
        "execution": {
          "iopub.status.busy": "2024-03-20T14:43:42.773761Z",
          "iopub.execute_input": "2024-03-20T14:43:42.774255Z",
          "iopub.status.idle": "2024-03-20T14:43:42.789628Z",
          "shell.execute_reply.started": "2024-03-20T14:43:42.774212Z",
          "shell.execute_reply": "2024-03-20T14:43:42.788662Z"
        },
        "trusted": true,
        "id": "J5rzg1GiNZOR"
      },
      "execution_count": null,
      "outputs": []
    },
    {
      "cell_type": "code",
      "source": [
        "# ploting Revenue By year and sub_category\n",
        "fig = px.histogram(bk2, x= 'Year', y = 'Revenue' ,color = 'Sub_Category',width = 1000, height = 800,title = 'Sales By Year and Sub Category')\n",
        "fig.update_layout(\n",
        "    xaxis_title_text='Year',\n",
        "    yaxis_title_text='Revenue')\n",
        "fig.show()"
      ],
      "metadata": {
        "execution": {
          "iopub.status.busy": "2024-03-20T17:01:36.799394Z",
          "iopub.execute_input": "2024-03-20T17:01:36.800466Z",
          "iopub.status.idle": "2024-03-20T17:01:36.939625Z",
          "shell.execute_reply.started": "2024-03-20T17:01:36.800432Z",
          "shell.execute_reply": "2024-03-20T17:01:36.938488Z"
        },
        "trusted": true,
        "id": "xsmtekPwNZOR"
      },
      "execution_count": null,
      "outputs": []
    },
    {
      "cell_type": "code",
      "source": [
        "# Total Revenue by Month\n",
        "month = bk.groupby(['Month'])['Revenue'].sum()\n",
        "data = {\n",
        "    'Month' : month.index,\n",
        "    'Revenue' : month.values\n",
        "}\n",
        "\n",
        "month1 = pd.DataFrame(data)\n",
        "month1\n",
        "# Define custom sorting order for months\n",
        "month_order = ['January', 'February', 'March', 'April', 'May', 'June', 'July', 'August', 'September', 'October', 'November', 'December']\n",
        "\n",
        "# Sort DataFrame by month column\n",
        "month_sorted = month1.sort_values(by='Month', key=lambda x: pd.Categorical(x, categories=month_order, ordered=True))\n",
        "month_sorted"
      ],
      "metadata": {
        "execution": {
          "iopub.status.busy": "2024-03-20T17:01:44.19933Z",
          "iopub.execute_input": "2024-03-20T17:01:44.19974Z",
          "iopub.status.idle": "2024-03-20T17:01:44.223921Z",
          "shell.execute_reply.started": "2024-03-20T17:01:44.199708Z",
          "shell.execute_reply": "2024-03-20T17:01:44.222856Z"
        },
        "trusted": true,
        "id": "XRqsNBXRNZOR"
      },
      "execution_count": null,
      "outputs": []
    },
    {
      "cell_type": "code",
      "source": [
        "# ploting Revenue by month\n",
        "layout = go.Layout(\n",
        "   autosize=False,\n",
        "   width=1300,\n",
        "   height=500)\n",
        "fig = go.Figure(layout = layout)\n",
        "fig.add_trace(go.Scatter(x=month_sorted.Month, y= month_sorted.Revenue,\n",
        "                        mode='lines+markers', name='Month', line =dict(color = 'firebrick', width = 4 , dash = 'dashdot')))\n",
        "fig.update_layout(\n",
        "    plot_bgcolor='white',\n",
        "xaxis_title = \"Month\",\n",
        "yaxis_title = \"Revenue\",\n",
        "title = \"Total Revenue By Month\")\n",
        "fig.show()"
      ],
      "metadata": {
        "execution": {
          "iopub.status.busy": "2024-03-20T17:01:50.723997Z",
          "iopub.execute_input": "2024-03-20T17:01:50.725154Z",
          "iopub.status.idle": "2024-03-20T17:01:50.744275Z",
          "shell.execute_reply.started": "2024-03-20T17:01:50.72511Z",
          "shell.execute_reply": "2024-03-20T17:01:50.743447Z"
        },
        "trusted": true,
        "id": "1uwzSizFNZOR"
      },
      "execution_count": null,
      "outputs": []
    },
    {
      "cell_type": "markdown",
      "source": [
        "<div class=\"alert alert-block alert-info\">\n",
        "<b></b> WE CAN SEE THAT THE HIGHST REVENUE ARE IN DECEMEBRE , JUNE, MAY.\n",
        "</div>"
      ],
      "metadata": {
        "id": "Zs0FprYoNZOR"
      }
    },
    {
      "cell_type": "code",
      "source": [
        "# Getting revenue by month and sub_category\n",
        "month_sub = bk.groupby(['Month','Sub_Category'])['Revenue'].sum()\n",
        "month_sub"
      ],
      "metadata": {
        "execution": {
          "iopub.status.busy": "2024-03-20T17:01:55.567748Z",
          "iopub.execute_input": "2024-03-20T17:01:55.568706Z",
          "iopub.status.idle": "2024-03-20T17:01:55.598389Z",
          "shell.execute_reply.started": "2024-03-20T17:01:55.568663Z",
          "shell.execute_reply": "2024-03-20T17:01:55.597147Z"
        },
        "trusted": true,
        "id": "2s0SgXq2NZOS"
      },
      "execution_count": null,
      "outputs": []
    },
    {
      "cell_type": "code",
      "source": [
        "# swetshing month_sub to a data frama\n",
        "data = {\n",
        "    \"Month\" : month_sub.index.get_level_values(0),\n",
        "    \"Sub_Category\" : month_sub.index.get_level_values(1),\n",
        "     \"Revenue\" : month_sub.values\n",
        "}\n",
        "\n",
        "mn = pd.DataFrame(data)\n",
        "mn\n",
        "month_order = ['January', 'February', 'March', 'April', 'May', 'June', 'July', 'August', 'September', 'October', 'November', 'December']\n",
        "\n",
        "# Sort DataFrame by month column\n",
        "mn_sorted = mn.sort_values(by='Month', key=lambda x: pd.Categorical(x, categories=month_order, ordered=True))\n",
        "\n",
        "mn_sorted"
      ],
      "metadata": {
        "execution": {
          "iopub.status.busy": "2024-03-20T17:02:00.364511Z",
          "iopub.execute_input": "2024-03-20T17:02:00.364894Z",
          "iopub.status.idle": "2024-03-20T17:02:00.382331Z",
          "shell.execute_reply.started": "2024-03-20T17:02:00.364867Z",
          "shell.execute_reply": "2024-03-20T17:02:00.381142Z"
        },
        "trusted": true,
        "id": "PWJTykz3NZOS"
      },
      "execution_count": null,
      "outputs": []
    },
    {
      "cell_type": "code",
      "source": [
        "fig = px.histogram(mn_sorted, x= 'Month', y = 'Revenue' ,color = 'Sub_Category',width = 1000, height = 800,title = 'Revenue By Month and Sub Category')\n",
        "fig.update_layout(\n",
        "    xaxis_title_text='Month',\n",
        "    yaxis_title_text='Revenue')\n",
        "fig.show()"
      ],
      "metadata": {
        "execution": {
          "iopub.status.busy": "2024-03-20T17:02:06.434107Z",
          "iopub.execute_input": "2024-03-20T17:02:06.434531Z",
          "iopub.status.idle": "2024-03-20T17:02:06.591335Z",
          "shell.execute_reply.started": "2024-03-20T17:02:06.434484Z",
          "shell.execute_reply": "2024-03-20T17:02:06.590153Z"
        },
        "trusted": true,
        "id": "XB0130xRNZOS"
      },
      "execution_count": null,
      "outputs": []
    },
    {
      "cell_type": "code",
      "source": [
        "# Product that gernerate more revenue\n",
        "pr = bk.groupby(['Product'])['Revenue'].sum().sort_values(ascending = False)\n",
        "data = {\n",
        "    \"Product\" : pr.index,\n",
        "    \"Revenue\" : pr.values\n",
        "\n",
        "}\n",
        "\n",
        "pr1 = pd.DataFrame(data)\n",
        "pr1"
      ],
      "metadata": {
        "execution": {
          "iopub.status.busy": "2024-03-20T17:02:23.098129Z",
          "iopub.execute_input": "2024-03-20T17:02:23.098622Z",
          "iopub.status.idle": "2024-03-20T17:02:23.127535Z",
          "shell.execute_reply.started": "2024-03-20T17:02:23.098583Z",
          "shell.execute_reply": "2024-03-20T17:02:23.12657Z"
        },
        "trusted": true,
        "id": "flfd2J6ENZOS"
      },
      "execution_count": null,
      "outputs": []
    },
    {
      "cell_type": "code",
      "source": [
        "#Top 5 Product By Revenue\n",
        "pr2 = pr1.head()\n",
        "px.pie(pr2, values='Revenue', names='Product',\n",
        "       title='Top 5 Product By Revenue',\n",
        "       color_discrete_sequence=px.colors.sequential.RdBu,\n",
        "      width = 800, height = 500)"
      ],
      "metadata": {
        "execution": {
          "iopub.status.busy": "2024-03-20T17:02:28.328143Z",
          "iopub.execute_input": "2024-03-20T17:02:28.329378Z",
          "iopub.status.idle": "2024-03-20T17:02:28.408923Z",
          "shell.execute_reply.started": "2024-03-20T17:02:28.329334Z",
          "shell.execute_reply": "2024-03-20T17:02:28.407242Z"
        },
        "trusted": true,
        "id": "DM08XQP8NZOS"
      },
      "execution_count": null,
      "outputs": []
    },
    {
      "cell_type": "markdown",
      "source": [
        "<div class=\"alert alert-block alert-info\">\n",
        "<b></b> THE BEST PRODUCT THAT GENERATE REVENUE IS ROAD-150 RED,62 SO WE CAN TAKE THIS POINT TO PRODUCE MORE FROM THIS PRODUCT.\n",
        "</div>"
      ],
      "metadata": {
        "id": "8VrFLknyNZOS"
      }
    },
    {
      "cell_type": "code",
      "source": [
        "# Top product bu revenue in the USA\n",
        "usa = bk.query('Country == \"United States\"').groupby(['Country','Product'])['Revenue'].sum().sort_values(ascending = False).head(10)\n",
        "usa"
      ],
      "metadata": {
        "execution": {
          "iopub.status.busy": "2024-03-20T17:02:35.476968Z",
          "iopub.execute_input": "2024-03-20T17:02:35.477465Z",
          "iopub.status.idle": "2024-03-20T17:02:35.5232Z",
          "shell.execute_reply.started": "2024-03-20T17:02:35.477433Z",
          "shell.execute_reply": "2024-03-20T17:02:35.521609Z"
        },
        "trusted": true,
        "id": "-hY-X6GoNZOT"
      },
      "execution_count": null,
      "outputs": []
    },
    {
      "cell_type": "code",
      "source": [
        "# transforming to data frame\n",
        "data = {\n",
        "    \"Country\" : usa.index.get_level_values(0),\n",
        "    \"Product\" : usa.index.get_level_values(1),\n",
        "     \"Revenue\" : usa.values\n",
        "}\n",
        "\n",
        "usa1 = pd.DataFrame(data)\n",
        "usa1\n",
        "#ploting top product in USA\n",
        "fig = px.bar(usa1, x= 'Product' , y = 'Revenue',width = 1000, height = 800,title ='Top 10 Product By Revenue The Usa',color = 'Revenue',color_continuous_scale= px.colors.sequential.Sunsetdark,template = 'simple_white')\n",
        "fig.update_layout(\n",
        "    xaxis_title_text='Product',\n",
        "    yaxis_title_text='Revenue')\n",
        "fig.show()"
      ],
      "metadata": {
        "execution": {
          "iopub.status.busy": "2024-03-20T17:06:32.171394Z",
          "iopub.execute_input": "2024-03-20T17:06:32.171813Z",
          "iopub.status.idle": "2024-03-20T17:06:32.276027Z",
          "shell.execute_reply.started": "2024-03-20T17:06:32.171785Z",
          "shell.execute_reply": "2024-03-20T17:06:32.274793Z"
        },
        "trusted": true,
        "id": "cTuQFumaNZOT"
      },
      "execution_count": null,
      "outputs": []
    },
    {
      "cell_type": "code",
      "source": [
        "# revenue by gender\n",
        "gender = bk.groupby(['Customer_Gender'])['Revenue'].sum()\n",
        "\n",
        "data = {\n",
        "    \"Gender\" : gender.index,\n",
        "    \"Revenue\" : gender.values\n",
        "\n",
        "}\n",
        "\n",
        "gn1 = pd.DataFrame(data)\n",
        "\n",
        "px.pie(gn1, values= 'Revenue', names= 'Gender',\n",
        "       title='Revenue By Gender',\n",
        "       color_discrete_sequence=px.colors.sequential.RdBu,\n",
        "      width = 800, height = 500)"
      ],
      "metadata": {
        "execution": {
          "iopub.status.busy": "2024-03-19T22:32:51.984386Z",
          "iopub.execute_input": "2024-03-19T22:32:51.984848Z",
          "iopub.status.idle": "2024-03-19T22:32:52.070005Z",
          "shell.execute_reply.started": "2024-03-19T22:32:51.984815Z",
          "shell.execute_reply": "2024-03-19T22:32:52.068652Z"
        },
        "trusted": true,
        "id": "gBSGGHtGNZOU"
      },
      "execution_count": null,
      "outputs": []
    },
    {
      "cell_type": "markdown",
      "source": [
        "<div class=\"alert alert-block alert-info\">\n",
        "<b></b> MAN GENERATED MORE REVENUE THAN WOMEN AND WE CAN CLARIFY THAT BECAUSE MAN MOSTLY USING BIKES THAN WOMEN .\n",
        "</div>"
      ],
      "metadata": {
        "id": "-vPhhEpjNZOU"
      }
    },
    {
      "cell_type": "code",
      "source": [
        "# Top 10 age that generate revenue\n",
        "age = bk.groupby(['Customer_Age'])['Revenue'].sum().sort_values(ascending = False ).head(10)\n",
        "age\n",
        "\n",
        "data = {\n",
        "    'Customer_Age' : age.index,\n",
        "    'Revenue' : age.values\n",
        "}\n",
        "\n",
        "age1 = pd.DataFrame(data)\n",
        "\n",
        "# visualising the data\n",
        "fig = px.scatter(age1, x=  'Customer_Age',  y= 'Revenue', width=800,\n",
        "    height=500, hover_name = 'Customer_Age',color = 'Revenue', size = 'Revenue',template = 'simple_white')\n",
        "\n",
        "fig.update_layout(\n",
        "    xaxis_title_text='Age',\n",
        "    yaxis_title_text='Revenue')\n",
        "fig.show()"
      ],
      "metadata": {
        "execution": {
          "iopub.status.busy": "2024-03-20T17:07:19.055542Z",
          "iopub.execute_input": "2024-03-20T17:07:19.055896Z",
          "iopub.status.idle": "2024-03-20T17:07:19.130647Z",
          "shell.execute_reply.started": "2024-03-20T17:07:19.05587Z",
          "shell.execute_reply": "2024-03-20T17:07:19.129445Z"
        },
        "trusted": true,
        "id": "nDUTUQpGNZOU"
      },
      "execution_count": null,
      "outputs": []
    },
    {
      "cell_type": "markdown",
      "source": [
        "<div class=\"alert alert-block alert-info\">\n",
        "<b></b> WE CAN SEE THAT THE BEST AGE GROUP FOR US IT'S BETWEEN 27 AND 40 .\n",
        "</div>"
      ],
      "metadata": {
        "id": "UgFPVvDTNZOU"
      }
    },
    {
      "cell_type": "code",
      "source": [
        "# GETTING TOP COUNTRY BY REVENUE\n",
        "bk4 = bk.filter(['Country','Revenue'],axis = 1)\n",
        "bk5 = bk4.groupby(['Country'])['Revenue'].sum().sort_values()\n",
        "data = {\n",
        "    \"Country\" : bk5.index,\n",
        "    \"Revenue\" : bk5.values\n",
        "\n",
        "}\n",
        "\n",
        "co = pd.DataFrame(data)\n",
        "co"
      ],
      "metadata": {
        "execution": {
          "iopub.status.busy": "2024-03-20T17:07:47.725785Z",
          "iopub.execute_input": "2024-03-20T17:07:47.726145Z",
          "iopub.status.idle": "2024-03-20T17:07:47.751048Z",
          "shell.execute_reply.started": "2024-03-20T17:07:47.72612Z",
          "shell.execute_reply": "2024-03-20T17:07:47.749964Z"
        },
        "trusted": true,
        "id": "qpNBbEqrNZOU"
      },
      "execution_count": null,
      "outputs": []
    },
    {
      "cell_type": "code",
      "source": [
        "# PLOTING TOP COUNTRY BY REVENUE\n",
        "layout = go.Layout(\n",
        "   autosize=False,\n",
        "   width=1300,\n",
        "   height=500)\n",
        "fig = go.Figure(layout = layout)\n",
        "fig.add_trace(go.Scatter(x=co.Country, y= co.Revenue,\n",
        "                        mode='lines+markers', name='Country', line =dict(color = 'red', width = 4 )))\n",
        "fig.update_layout(\n",
        "    plot_bgcolor='white',\n",
        "xaxis_title = \"Country\",\n",
        "yaxis_title = \"Revenue\",\n",
        "title = \"Top Country By Revenue\")\n",
        "fig.show()"
      ],
      "metadata": {
        "execution": {
          "iopub.status.busy": "2024-03-20T17:07:50.021723Z",
          "iopub.execute_input": "2024-03-20T17:07:50.022077Z",
          "iopub.status.idle": "2024-03-20T17:07:50.039775Z",
          "shell.execute_reply.started": "2024-03-20T17:07:50.022052Z",
          "shell.execute_reply": "2024-03-20T17:07:50.038574Z"
        },
        "trusted": true,
        "id": "YBfD1BtoNZOV"
      },
      "execution_count": null,
      "outputs": []
    },
    {
      "cell_type": "code",
      "source": [
        "# GETTING TOP 10 STATE BY REVENUE\n",
        "st = bk.groupby(['State'])['Revenue'].sum().sort_values(ascending =False).head(10)\n",
        "st"
      ],
      "metadata": {
        "execution": {
          "iopub.status.busy": "2024-03-20T17:08:34.74485Z",
          "iopub.execute_input": "2024-03-20T17:08:34.745258Z",
          "iopub.status.idle": "2024-03-20T17:08:34.765351Z",
          "shell.execute_reply.started": "2024-03-20T17:08:34.745228Z",
          "shell.execute_reply": "2024-03-20T17:08:34.764511Z"
        },
        "trusted": true,
        "id": "tu1zVCzHNZOV"
      },
      "execution_count": null,
      "outputs": []
    },
    {
      "cell_type": "code",
      "source": [
        "#PLOT TOP 10 STATE BY REVENUE\n",
        "data = {\n",
        "    \"State\" : st.index,\n",
        "    \"Revenue\" : st.values\n",
        "\n",
        "}\n",
        "\n",
        "st1 = pd.DataFrame(data)\n",
        "\n",
        "px.pie(st1, values= 'Revenue', names= 'State',\n",
        "       title='Top 10 State By Revenue',\n",
        "       color_discrete_sequence=px.colors.sequential.RdBu,\n",
        "      width = 800, height = 500)"
      ],
      "metadata": {
        "execution": {
          "iopub.status.busy": "2024-03-20T17:08:39.973302Z",
          "iopub.execute_input": "2024-03-20T17:08:39.973711Z",
          "iopub.status.idle": "2024-03-20T17:08:40.046889Z",
          "shell.execute_reply.started": "2024-03-20T17:08:39.973681Z",
          "shell.execute_reply": "2024-03-20T17:08:40.045623Z"
        },
        "trusted": true,
        "id": "VtFeuPTXNZOV"
      },
      "execution_count": null,
      "outputs": []
    },
    {
      "cell_type": "markdown",
      "source": [
        "<div class=\"alert alert-block alert-info\">\n",
        "<b></b> BEST STATE IN TERM OF REVENUE GENERATED IS CALIFORNIA  .\n",
        "</div>"
      ],
      "metadata": {
        "id": "9DhVWpoKNZOV"
      }
    },
    {
      "cell_type": "markdown",
      "source": [
        "# <div style = 'background-color:yellow'> <center> The End </div>"
      ],
      "metadata": {
        "id": "GyhIMj-1NZOV"
      }
    }
  ]
}